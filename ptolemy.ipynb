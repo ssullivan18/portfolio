{
 "cells": [
  {
   "cell_type": "markdown",
   "metadata": {
    "jupyter": {
     "outputs_hidden": false,
     "source_hidden": false
    },
    "nteract": {
     "transient": {
      "deleting": false
     }
    }
   },
   "source": [
    "# Analyzing Ptolemy's geographic data\n",
    "\n",
    "## Authors: Michael Dahlquist, Kristen Qako, & Sean Sullivan\n",
    "\n",
    "## Overview\n",
    "\n",
    "This notebook will help you adjust Ptolemy's values for longitude and latitude to account for:\n",
    "\n",
    "- his mistakenly small dimension of the earth's circumference\n",
    "- his origin of longitude (ca. 12.8 degrees west of Greenwich)\n",
    "- his use of the \"parallel through Rhodes\" (36 degrees north latitude in Ptolemy's data) as the baseline for computing latitude values.\n"
   ]
  },
  {
   "cell_type": "markdown",
   "metadata": {
    "nteract": {
     "transient": {
      "deleting": false
     }
    }
   },
   "source": [
    "## Using your adjusted data in a GIS\n",
    "\n",
    "You could use the contents of this notebook in several ways:\n",
    "\n",
    "1. run as a Jupyter notebook directly (either on mybinder.org, or downloaded and run with software like nteract)\n",
    "2. download the notebook as Scala, open the Scala content in Atom, and run the code directly there.\n",
    "\n",
    "In either case, you will want to write your adjusted data to a `.csv` file you can use directly in a GIS.\n",
    "\n",
    "A Jupyter notebook on mybinder won't have access to your host computer's file system, so you'll have to print out the values in your notebook, and copy and paste them in to a file on your computer.  If you're running the code in a local environment like Atom, you can write the output directly from your Scala code.  The instructions at the end of this notebook will show you how to do both of these things.\n",
    "\n",
    "# Best way to execute scala code in jupyter notebook\n",
    "\n",
    "This file alternates between plain text and blocks of code. To ensure all lines run, please execute each block of code as you go by clicking the box of code and pressing `control` and `enter`. Alternatively, you can go to `cell` -> `run all` to execute the enter page.\n"
   ]
  },
  {
   "cell_type": "markdown",
   "metadata": {
    "nteract": {
     "transient": {
      "deleting": false
     }
    }
   },
   "source": [
    "## Load data for Ptolemy\n",
    "\n",
    "You can use an existing code library to read an XML edition of Ptolemy's *Geography* and extract the 6,000 geographic points into a class of object that will make them straightforward to work with."
   ]
  },
  {
   "cell_type": "code",
   "execution_count": null,
   "metadata": {
    "execution": {
     "iopub.execute_input": "2020-03-26T16:17:39.561Z",
     "iopub.status.busy": "2020-03-26T16:17:39.556Z",
     "iopub.status.idle": "2020-03-26T16:17:48.334Z"
    },
    "jupyter": {
     "outputs_hidden": false,
     "source_hidden": false
    },
    "nteract": {
     "transient": {
      "deleting": false
     }
    },
    "scrolled": true
   },
   "outputs": [],
   "source": [
    "// 1. Add two maven maven repositories where we can find our libraries\n",
    "val myBT = coursierapi.MavenRepository.of(\"https://dl.bintray.com/neelsmith/maven\")\n",
    "val beta = coursierapi.MavenRepository.of(\"http://beta.hpcc.uh.edu/nexus/content/groups/public\")\n",
    "interp.repositories() ++= Seq(myBT, beta)"
   ]
  },
  {
   "cell_type": "code",
   "execution_count": null,
   "metadata": {
    "execution": {
     "iopub.execute_input": "2020-03-26T16:17:48.345Z",
     "iopub.status.busy": "2020-03-26T16:17:48.341Z",
     "iopub.status.idle": "2020-03-26T16:18:07.147Z"
    },
    "scrolled": true
   },
   "outputs": [],
   "source": [
    "// 2. Make libraries available with `$ivy` imports:\n",
    "import $ivy.`edu.holycross.shot::ptolemy:1.6.0`\n",
    "import scala.xml._"
   ]
  },
  {
   "cell_type": "code",
   "execution_count": null,
   "metadata": {
    "execution": {
     "iopub.execute_input": "2020-03-26T16:18:07.167Z",
     "iopub.status.busy": "2020-03-26T16:18:07.162Z",
     "iopub.status.idle": "2020-03-26T16:18:32.125Z"
    },
    "scrolled": true
   },
   "outputs": [],
   "source": [
    "// read and parse XML file of Ptolemy:\n",
    "val url = \"https://raw.githubusercontent.com/neelsmith/ptolemy/master/tei/tlg0363.tlg009.epist03-p5-u8.xml\"\n",
    "val root = XML.load(url)"
   ]
  },
  {
   "cell_type": "code",
   "execution_count": null,
   "metadata": {
    "execution": {
     "iopub.execute_input": "2020-03-26T16:18:32.141Z",
     "iopub.status.busy": "2020-03-26T16:18:32.135Z",
     "iopub.status.idle": "2020-03-26T16:21:10.937Z"
    },
    "scrolled": true
   },
   "outputs": [],
   "source": [
    "// parse XML text into objects\n",
    "import edu.holycross.shot.ptolemy._\n",
    "val ptolemyPoints = TeiParser.geography(root).rawData"
   ]
  },
  {
   "cell_type": "markdown",
   "metadata": {
    "nteract": {
     "transient": {
      "deleting": false
     }
    }
   },
   "source": [
    "Each of the `ptolemyPoints` objects has a `lon` and a `lat` member.\n",
    "\n",
    "Look at the example of a single point in following cell to figure out what class the `lon` and `lat` members belong to."
   ]
  },
  {
   "cell_type": "code",
   "execution_count": null,
   "metadata": {
    "execution": {
     "iopub.execute_input": "2020-03-26T16:21:10.951Z",
     "iopub.status.busy": "2020-03-26T16:21:10.946Z",
     "iopub.status.idle": "2020-03-26T16:22:09.109Z"
    },
    "jupyter": {
     "outputs_hidden": false,
     "source_hidden": false
    },
    "nteract": {
     "transient": {
      "deleting": false
     }
    },
    "scrolled": true
   },
   "outputs": [],
   "source": [
    "val firstPoint = ptolemyPoints(0)\n",
    "firstPoint.lon\n",
    "firstPoint.lat\n",
    "//firstPoint.id\n",
    "//firstPoint.continent\n",
    "//firstPoint.province"
   ]
  },
  {
   "cell_type": "markdown",
   "metadata": {},
   "source": [
    "## 1. Scale the data\n",
    "\n",
    "As you know from your background reading, we will use the ratio of Eratosthenes' figure for the circumference of the earth to Ptolemy's figure to scale the longitude and latitude values down by about 72%."
   ]
  },
  {
   "cell_type": "code",
   "execution_count": null,
   "metadata": {
    "execution": {
     "iopub.execute_input": "2020-03-26T16:22:09.122Z",
     "iopub.status.busy": "2020-03-26T16:22:09.117Z",
     "iopub.status.idle": "2020-03-26T16:25:40.634Z"
    },
    "scrolled": true
   },
   "outputs": [],
   "source": [
    "val ratio = 18.0 / 25.0\n",
    "// We'll take one arbitrary point as an example\n",
    "// Here's an example:\n",
    "firstPoint.lon\n",
    "firstPoint.lon * ratio\n",
    "firstPoint.lat\n",
    "firstPoint.lat * ratio\n"
   ]
  },
  {
   "cell_type": "markdown",
   "metadata": {},
   "source": [
    "\n",
    "\n",
    "To simplify your work, you could work just with the longitude and latitude values for each point.  Scala's case class is a natural way to accomplish that.\n",
    "\n",
    "The following cell defines a class named `GeoPoint` that has three members, plus one function to format the contents as a comma-separated String. It shows how you can create instances of that class."
   ]
  },
  {
   "cell_type": "code",
   "execution_count": null,
   "metadata": {
    "execution": {
     "iopub.execute_input": "2020-03-26T16:45:51.028Z",
     "iopub.status.busy": "2020-03-26T16:45:51.023Z",
     "iopub.status.idle": "2020-03-26T16:46:03.661Z"
    },
    "scrolled": true
   },
   "outputs": [],
   "source": [
    "case class GeoPoint (id: String, lon: Double, lat: Double) {\n",
    "    def csv : String = {\n",
    "        id + \",\" + lon + \",\" + lat\n",
    "    }\n",
    "}\n",
    "\n",
    "\n",
    "val firstGeo = GeoPoint(firstPoint.id, firstPoint.lon, firstPoint.lat)\n",
    "firstGeo.csv"
   ]
  },
  {
   "cell_type": "markdown",
   "metadata": {
    "nteract": {
     "transient": {
      "deleting": false
     }
    }
   },
   "source": [
    "This makes it very straightforward to map the Vector of ptolemy points to a new Vector of `GeoPoint` objects."
   ]
  },
  {
   "cell_type": "code",
   "execution_count": null,
   "metadata": {
    "execution": {
     "iopub.execute_input": "2020-03-26T16:46:03.677Z",
     "iopub.status.busy": "2020-03-26T16:46:03.672Z",
     "iopub.status.idle": "2020-03-26T16:46:14.291Z"
    },
    "jupyter": {
     "outputs_hidden": false,
     "source_hidden": false
    },
    "nteract": {
     "transient": {
      "deleting": false
     }
    },
    "scrolled": true
   },
   "outputs": [],
   "source": [
    "val ptolemyGeo = ptolemyPoints.map(pt => GeoPoint(pt.id, pt.lon, pt.lat))"
   ]
  },
  {
   "cell_type": "markdown",
   "metadata": {},
   "source": [
    "### Verify the size is the same"
   ]
  },
  {
   "cell_type": "code",
   "execution_count": null,
   "metadata": {
    "scrolled": true
   },
   "outputs": [],
   "source": [
    "ptolemyGeo.size\n",
    "ptolemyPoints.size"
   ]
  },
  {
   "cell_type": "markdown",
   "metadata": {
    "nteract": {
     "transient": {
      "deleting": false
     }
    }
   },
   "source": [
    "If we wanted to create a rescaled version of the first longitude, latitude pair, we could easily do that: "
   ]
  },
  {
   "cell_type": "code",
   "execution_count": null,
   "metadata": {
    "execution": {
     "iopub.execute_input": "2020-03-26T16:46:14.302Z",
     "iopub.status.busy": "2020-03-26T16:46:14.299Z",
     "iopub.status.idle": "2020-03-26T16:46:26.676Z"
    },
    "jupyter": {
     "outputs_hidden": false,
     "source_hidden": false
    },
    "nteract": {
     "transient": {
      "deleting": false
     }
    },
    "scrolled": true
   },
   "outputs": [],
   "source": [
    "val firstRescaled = GeoPoint(firstPoint.id, \n",
    "                             firstPoint.lon * ratio, \n",
    "                             firstPoint.lat * ratio)\n",
    "firstPoint"
   ]
  },
  {
   "cell_type": "markdown",
   "metadata": {},
   "source": [
    "### Task: create a Vector of rescaled points\n",
    "\n",
    "Now create a Vector of `GeoPoint` objects.  Verify that you have the same number of them as the size of your original Vector of Ptolemy points."
   ]
  },
  {
   "cell_type": "code",
   "execution_count": null,
   "metadata": {
    "scrolled": true
   },
   "outputs": [],
   "source": [
    "val ptolemyRescaled = ptolemyGeo.map( pt => \n",
    "                                     GeoPoint(\n",
    "                                       pt.id, \n",
    "                                       pt.lon * ratio, \n",
    "                                       pt.lat * ratio))"
   ]
  },
  {
   "cell_type": "markdown",
   "metadata": {
    "nteract": {
     "transient": {
      "deleting": false
     }
    }
   },
   "source": [
    "## 2. Adjust origin of longitude\n",
    "\n",
    "Empirical comparison suggests that Ptolemy's origin of longitude was about 12.8 degrees west of Greenwich.\n",
    "\n",
    "The following cell creates a `GeoPoint` adjusting Ptolemy's origin of longitude to align with our origin of longitude.\n"
   ]
  },
  {
   "cell_type": "code",
   "execution_count": null,
   "metadata": {
    "execution": {
     "iopub.execute_input": "2020-03-26T16:46:26.691Z",
     "iopub.status.busy": "2020-03-26T16:46:26.684Z",
     "iopub.status.idle": "2020-03-26T16:46:37.445Z"
    },
    "jupyter": {
     "outputs_hidden": false,
     "source_hidden": false
    },
    "nteract": {
     "transient": {
      "deleting": false
     }
    },
    "scrolled": true
   },
   "outputs": [],
   "source": [
    "// negative because Ptolemy's 0 is *west* of Greenwich:\n",
    "val originLongitude = -12.8\n",
    "firstRescaled\n",
    "val firstLonAdjusted = GeoPoint(firstRescaled.id, \n",
    "                                firstRescaled.lat, \n",
    "                                firstRescaled.lon + \n",
    "                                       originLongitude)"
   ]
  },
  {
   "cell_type": "markdown",
   "metadata": {
    "nteract": {
     "transient": {
      "deleting": false
     }
    }
   },
   "source": [
    "### Task: create a Vector of points with adjusted longitude\n"
   ]
  },
  {
   "cell_type": "code",
   "execution_count": null,
   "metadata": {
    "jupyter": {
     "outputs_hidden": false,
     "source_hidden": false
    },
    "nteract": {
     "transient": {
      "deleting": false
     }
    },
    "scrolled": true
   },
   "outputs": [],
   "source": [
    "// Map your existing ptolemyRescaled Vector:\n",
    "\n",
    "val ptolemyLonAdjusted = ptolemyRescaled.map( pt => \n",
    "                                             GeoPoint(\n",
    "                                               pt.id, \n",
    "                                               pt.lat, \n",
    "                                               pt.lon + \n",
    "                                                originLongitude))"
   ]
  },
  {
   "cell_type": "markdown",
   "metadata": {},
   "source": [
    "## 3. Adjust base of latitude\n",
    "\n",
    "When Ptolemy converted ground distances to spherical coordinates, he did not use the equator (0 degrees of latitude) as his baseline to compute from.  Instead, he used \"the parallel through Rhodes,\" which he gives as 36 degrees north of the equator.  But if we scale his raw value of 36 degrees by the ratio of 18/25, then the baseline he thought was 36 degrees north of the equator was actually less than 26 degrees north of the equator.  We need to *add* to each latitude value this difference (roughly 10 degrees) between the raw value of 36 degrees and the scaled-down value.\n",
    "\n",
    "The following cell shows how to compute that offset value, and apply it to one point."
   ]
  },
  {
   "cell_type": "code",
   "execution_count": null,
   "metadata": {
    "execution": {
     "iopub.execute_input": "2020-03-26T16:38:40.364Z",
     "iopub.status.busy": "2020-03-26T16:38:40.358Z",
     "iopub.status.idle": "2020-03-26T16:40:43.509Z"
    },
    "scrolled": true
   },
   "outputs": [],
   "source": [
    "val rhodesRaw = 36.0\n",
    "val rhodesAdjusted = ratio * rhodesRaw\n",
    "val offset = rhodesRaw - rhodesAdjusted\n"
   ]
  },
  {
   "cell_type": "code",
   "execution_count": null,
   "metadata": {
    "execution": {
     "iopub.execute_input": "2020-03-26T16:46:37.459Z",
     "iopub.status.busy": "2020-03-26T16:46:37.455Z",
     "iopub.status.idle": "2020-03-26T16:45:51.015Z"
    },
    "scrolled": true
   },
   "outputs": [],
   "source": [
    "val firstLonLatAdjusted = GeoPoint(firstLonAdjusted.id, \n",
    "                                   firstLonAdjusted.lat + \n",
    "                                        offset, \n",
    "                                   firstLonAdjusted.lon)"
   ]
  },
  {
   "cell_type": "markdown",
   "metadata": {
    "nteract": {
     "transient": {
      "deleting": false
     }
    }
   },
   "source": [
    "### Task: create a Vector of points with all three adjustments"
   ]
  },
  {
   "cell_type": "code",
   "execution_count": null,
   "metadata": {
    "scrolled": true
   },
   "outputs": [],
   "source": [
    "// Map the existing ptolemyLonAdjusted Vector:\n",
    "\n",
    "val ptolemyAdjusted = \n",
    "    ptolemyLonAdjusted.map(pt => GeoPoint(pt.id, \n",
    "                                          pt.lat + offset, \n",
    "                                          pt.lon))"
   ]
  },
  {
   "cell_type": "markdown",
   "metadata": {},
   "source": [
    "### Verify the size is the same"
   ]
  },
  {
   "cell_type": "code",
   "execution_count": null,
   "metadata": {
    "scrolled": true
   },
   "outputs": [],
   "source": [
    "ptolemyAdjusted.size"
   ]
  },
  {
   "cell_type": "markdown",
   "metadata": {},
   "source": [
    "## Get your data into a GIS\n",
    "\n",
    "We'd like to write a file with our data in `.csv` format that a GIS can read.\n",
    "\n",
    "This requires two steps:\n",
    "\n",
    "1. format the Vector of `GeoPoint` objects as csv Strings.\n",
    "2. write the formatted Strings to a file\n",
    "\n",
    "The `csv` method of the `GeoPoint` class will simplify this: we can simply map every `GeoPoint` to the String output of its `csv` method."
   ]
  },
  {
   "cell_type": "code",
   "execution_count": null,
   "metadata": {
    "jupyter": {
     "outputs_hidden": false,
     "source_hidden": false
    },
    "nteract": {
     "transient": {
      "deleting": false
     }
    },
    "scrolled": true
   },
   "outputs": [],
   "source": [
    "val csvVector = ptolemyAdjusted.map(pt => pt.csv)"
   ]
  },
  {
   "cell_type": "markdown",
   "metadata": {
    "nteract": {
     "transient": {
      "deleting": false
     }
    }
   },
   "source": [
    "Vectors have a handy `mkString` method to make a String out of a Vector.  It takes one parameter:  a String value used to join each element.  The following cell turns the Vector of Strings into a single String with new lines separating the components of the source Vector."
   ]
  },
  {
   "cell_type": "code",
   "execution_count": null,
   "metadata": {
    "jupyter": {
     "outputs_hidden": false,
     "source_hidden": false
    },
    "nteract": {
     "transient": {
      "deleting": false
     }
    },
    "scrolled": true
   },
   "outputs": [],
   "source": [
    "val csv = csvVector.mkString(\"\\n\")"
   ]
  },
  {
   "cell_type": "markdown",
   "metadata": {
    "nteract": {
     "transient": {
      "deleting": false
     }
    }
   },
   "source": [
    "We should define a header line to include in our `csv` file:"
   ]
  },
  {
   "cell_type": "code",
   "execution_count": null,
   "metadata": {
    "jupyter": {
     "outputs_hidden": false,
     "source_hidden": false
    },
    "nteract": {
     "transient": {
      "deleting": false
     }
    },
    "scrolled": true
   },
   "outputs": [],
   "source": [
    "val header = \"id,lon,lat\\n\""
   ]
  },
  {
   "cell_type": "markdown",
   "metadata": {
    "nteract": {
     "transient": {
      "deleting": false
     }
    }
   },
   "source": [
    "### If running locally (e.g., in Atom)\n",
    "\n",
    "`PrintWriter` is a clunky old Java class but if you just clone the code in the following cell, it's easy enough to write your output to a file in your local file system."
   ]
  },
  {
   "cell_type": "code",
   "execution_count": null,
   "metadata": {
    "scrolled": true
   },
   "outputs": [],
   "source": [
    "//import java.io.PrintWriter\n",
    "//new PrintWriter(\"ptolemy-output.csv\"){ write(header + csv); close; }"
   ]
  },
  {
   "cell_type": "markdown",
   "metadata": {},
   "source": [
    "### If running Jupyter notebook on `mybinder.org`\n",
    "\n",
    "If you're running the Jupyter notebook on `mybinder.org`, use `println` to display all values, that you can then (tediously) copy and paste into a text file."
   ]
  },
  {
   "cell_type": "code",
   "execution_count": null,
   "metadata": {
    "scrolled": true
   },
   "outputs": [],
   "source": [
    "println(header + csv)"
   ]
  },
  {
   "cell_type": "markdown",
   "metadata": {},
   "source": [
    "### You can find the `csv` data [here.](https://github.com/michaeldahlquist/clas299/blob/master/ptolemy/ptolemy.csv)"
   ]
  },
  {
   "cell_type": "markdown",
   "metadata": {},
   "source": [
    "## Load your CSV file into QGIS and visualize!\n"
   ]
  }
 ],
 "metadata": {
  "kernel_info": {
   "name": "scala212"
  },
  "kernelspec": {
   "display_name": "Scala (2.12)",
   "language": "scala",
   "name": "scala212"
  },
  "language_info": {
   "codemirror_mode": "text/x-scala",
   "file_extension": ".scala",
   "mimetype": "text/x-scala",
   "name": "scala",
   "nbconvert_exporter": "script",
   "version": "2.12.10"
  },
  "nteract": {
   "version": "0.22.0"
  }
 },
 "nbformat": 4,
 "nbformat_minor": 1
}
