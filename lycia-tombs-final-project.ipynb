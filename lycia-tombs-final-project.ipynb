{
 "cells": [
  {
   "cell_type": "markdown",
   "metadata": {},
   "source": [
    "# Ancient Lycia Necropoleis Type Analysis\n",
    "## Author: Michael Dahlquist, Kristen Qako, & Sean Sullivan\n",
    "\n",
    "In ancient Lycia, rock-cut tombs often clustered together in cemetery sites, or necropoleis, like ancient Myra (modern Demre), illustrated above. This data set contains data about Lycian necropoleis including the number of tombs at each site. You will figure out how many total tombs are represented in the data set. The records describe for each site its name, a typological classification by the Danish scholar Jan Zahle, the number of tombs, an English-language summary, and an identifier in a geographic data set.\n",
    "\n",
    "## Purpose of Notebook:\n",
    "The purpose of this jupyter notebook is to discover how many of each ztype was found in the tomb data. We then export the data to an excel file and created a chart to display our results.\n",
    "\n",
    "### The Data Set\n",
    "\n",
    "The dataset is available as a delimited-text file [here](https://raw.githubusercontent.com/michaeldahlquist/clas299/master/ancient-lycia-tombs/lycianNecropoleis.cex). The format is one record per row, and columns are delimited by the pound sign (hash tag) `#`. The file includes a header row:\n",
    "\n",
    "`sitename#ztype#tombcount#comments#ztypetext#rageid`\n",
    "\n",
    "The records describe for each site its name, a typological classification by the Danish scholar Jan Zahle, the number of tombs, an English-language summary, and an identifier in a geographic data set."
   ]
  },
  {
   "cell_type": "markdown",
   "metadata": {},
   "source": [
    "### Retrieve the data set\n",
    "\n",
    "To download the data set, you can use the Scala `Source` object. We need to import its class:\n",
    "\n",
    "`import scala.io.Source`"
   ]
  },
  {
   "cell_type": "code",
   "execution_count": null,
   "metadata": {
    "inputHidden": false,
    "outputHidden": false
   },
   "outputs": [],
   "source": [
    "import scala.io.Source\n",
    "val lycianNecropoleis = \"https://raw.githubusercontent.com/michaeldahlquist/clas299/master/ancient-lycia-tombs/lycianNecropoleis.cex\""
   ]
  },
  {
   "cell_type": "markdown",
   "metadata": {},
   "source": [
    "We then extract a sequence of lines from the URL source, and convert them to a vector."
   ]
  },
  {
   "cell_type": "code",
   "execution_count": null,
   "metadata": {},
   "outputs": [],
   "source": [
    "val lines = Source.fromURL(lycianNecropoleis).getLines.toVector"
   ]
  },
  {
   "cell_type": "markdown",
   "metadata": {},
   "source": [
    "### Extract the numeric count of tombs\n",
    "\n",
    "You should now have a Vector of Strings. You want to split up each String on the `#` character, to create a new Vector – this time, a Vector of Vectors. You’ll be mapping each line of the source data to a Vector of strings, one per column.\n",
    "\n",
    "We also will take the `tail` of the vector as the header is not part of the data."
   ]
  },
  {
   "cell_type": "code",
   "execution_count": null,
   "metadata": {
    "inputHidden": false,
    "outputHidden": false
   },
   "outputs": [],
   "source": [
    "val data = lines.tail.map(ln => ln.split(\"#\").toVector)"
   ]
  },
  {
   "cell_type": "code",
   "execution_count": null,
   "metadata": {},
   "outputs": [],
   "source": [
    "val tombCounts = data.map(columns => columns(2).toInt)"
   ]
  },
  {
   "cell_type": "markdown",
   "metadata": {},
   "source": [
    "### Create a new Class\n",
    "\n",
    "Here we created a new class to filter the data later on in the code. This class makes the data easier to work with and organize."
   ]
  },
  {
   "cell_type": "code",
   "execution_count": null,
   "metadata": {},
   "outputs": [],
   "source": [
    "case class LycianTomb (\n",
    "  site: String,\n",
    "  ztype: String,\n",
    "  count: Int,\n",
    "  comments: String,\n",
    "  typeDescription: String\n",
    ")"
   ]
  },
  {
   "cell_type": "markdown",
   "metadata": {},
   "source": [
    "Here we filter the lines of data into a vector of classes that we created in the previous cell."
   ]
  },
  {
   "cell_type": "code",
   "execution_count": null,
   "metadata": {},
   "outputs": [],
   "source": [
    "val tombs = data.filter(v => v.size >= 5).map ( cols => LycianTomb(\n",
    "  cols(0),cols(1),cols(2).toInt, cols(3), cols(4)\n",
    "))"
   ]
  },
  {
   "cell_type": "markdown",
   "metadata": {},
   "source": [
    "### Group by zType:\n",
    "\n",
    "Since all of the data is in a vector. We can group the data by using the .groupBy keyword."
   ]
  },
  {
   "cell_type": "code",
   "execution_count": null,
   "metadata": {},
   "outputs": [],
   "source": [
    "val byType = tombs.groupBy( t => t.typeDescription)"
   ]
  },
  {
   "cell_type": "markdown",
   "metadata": {},
   "source": [
    "This line of code creates a set of the unique zTypes found in the data."
   ]
  },
  {
   "cell_type": "code",
   "execution_count": null,
   "metadata": {},
   "outputs": [],
   "source": [
    "val keys = byType.keySet"
   ]
  },
  {
   "cell_type": "markdown",
   "metadata": {},
   "source": [
    "Finally, this line of code calculates the amount of each zType that was found in the data set."
   ]
  },
  {
   "cell_type": "code",
   "execution_count": null,
   "metadata": {},
   "outputs": [],
   "source": [
    "val result = for (key <- keys) yield {\n",
    "  key -> byType(key).map(tomb => tomb.count).sum\n",
    "}"
   ]
  },
  {
   "cell_type": "markdown",
   "metadata": {},
   "source": [
    "### View data via an excel file:\n",
    "\n",
    "![Graph](https://github.com/michaeldahlquist/clas299/raw/master/lycia-tombs-final-project/graph.png)"
   ]
  },
  {
   "cell_type": "markdown",
   "metadata": {},
   "source": [
    "## Further research that can be done\n",
    "\n",
    "You can see the results of our hypthosis above, however, if anyone wanted to continue working with this data set they can ask the question: Why is the majority of the tombs founds to be of the type \"House tomb, rock-cut facade.\" This can lead to further investigation of the data."
   ]
  }
 ],
 "metadata": {
  "kernel_info": {
   "name": "scala212"
  },
  "kernelspec": {
   "display_name": "Scala (2.12)",
   "language": "scala",
   "name": "scala212"
  },
  "language_info": {
   "codemirror_mode": "text/x-scala",
   "file_extension": ".scala",
   "mimetype": "text/x-scala",
   "name": "scala",
   "nbconvert_exporter": "script",
   "version": "2.12.10"
  },
  "nteract": {
   "version": "0.15.0"
  }
 },
 "nbformat": 4,
 "nbformat_minor": 2
}