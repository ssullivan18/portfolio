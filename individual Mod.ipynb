{
 "cells": [
  {
   "cell_type": "markdown",
   "metadata": {},
   "source": [
    "# Archaeological Data Analysis: Individual Mod\n",
    "\n",
    "### Author:  Sean Sullivan"
   ]
  },
  {
   "cell_type": "markdown",
   "metadata": {},
   "source": [
    "## Download delimited-text data\n",
    "\n",
    "We'll make the standard Scala `Source` object available by `import`ing it, then use it to retrieve the content of a URL."
   ]
  },
  {
   "cell_type": "code",
   "execution_count": 11,
   "metadata": {
    "inputHidden": false,
    "outputHidden": false
   },
   "outputs": [
    {
     "data": {
      "text/plain": [
       "\u001b[32mimport \u001b[39m\u001b[36mscala.io.Source\n",
       "\u001b[39m\n",
       "\u001b[36mlyrianCex\u001b[39m: \u001b[32mString\u001b[39m = \u001b[32m\"http://shot.holycross.edu/courses/ada/S20/data/lycianNecropoleis.cex\"\u001b[39m"
      ]
     },
     "execution_count": 11,
     "metadata": {},
     "output_type": "execute_result"
    }
   ],
   "source": [
    "import scala.io.Source\n",
    "val lyrianCex = \"http://shot.holycross.edu/courses/ada/S20/data/lycianNecropoleis.cex\""
   ]
  },
  {
   "cell_type": "markdown",
   "metadata": {},
   "source": [
    "We'll extract a sequence of lines from the URL source, and convert them to our favorite type of Scala collection, a `Vector`.\n",
    "\n",
    "(The following cell downloads the data:  depending on your internet connection, this might take a moment.)"
   ]
  },
  {
   "cell_type": "code",
   "execution_count": 12,
   "metadata": {
    "inputHidden": false,
    "outputHidden": false
   },
   "outputs": [
    {
     "data": {
      "text/plain": [
       "\u001b[36mlines\u001b[39m: \u001b[32mVector\u001b[39m[\u001b[32mString\u001b[39m] = \u001b[33mVector\u001b[39m(\n",
       "  \u001b[32m\"sitename#ztype#tombcount#comments#ztypetext#rageid\"\u001b[39m,\n",
       "  \u001b[32m\"Antiphellos#IID#17#NA#House tomb, rock-cut facade#1667\"\u001b[39m,\n",
       "  \u001b[32m\"Pinara#IIIA#2#NA#Lycian sarcophagus, free standing#1696\"\u001b[39m,\n",
       "  \u001b[32m\"Delicedere#IIIA#1#NA#Lycian sarcophagus, free standing#NA\"\u001b[39m,\n",
       "  \u001b[32m\"Xanthos#IIIA#9#NA#Lycian sarcophagus, free standing#1694\"\u001b[39m,\n",
       "  \u001b[32m\"Tlos#IIIA#5#NA#Lycian sarcophagus, free standing#1695\"\u001b[39m,\n",
       "  \u001b[32m\"Telmessos#IIIA#1#NA#Lycian sarcophagus, free standing#1571\"\u001b[39m,\n",
       "  \u001b[32m\"Trysa#IIIA#4#NA#Lycian sarcophagus, free standing#1666\"\u001b[39m,\n",
       "  \u001b[32m\"Tuze#IIIA#3#NA#Lycian sarcophagus, free standing#1756\"\u001b[39m,\n",
       "  \u001b[32m\"Cindam#IIIA#1#NA#Lycian sarcophagus, free standing#1755\"\u001b[39m,\n",
       "  \u001b[32m\"Bayindir Liman#IIIA#1#NA#Lycian sarcophagus, free standing#1724\"\u001b[39m,\n",
       "  \u001b[32m\"Sura#IIIA#1#NA#Lycian sarcophagus, free standing#1702\"\u001b[39m,\n",
       "  \u001b[32m\"Limyra#IIIA#5#NA#Lycian sarcophagus, free standing#1701\"\u001b[39m,\n",
       "  \u001b[32m\"Kyanai#IIIA#2#NA#Lycian sarcophagus, free standing#1707\"\u001b[39m,\n",
       "  \u001b[32m\"Kadyanda#IIIA#1#NA#Lycian sarcophagus, free standing#1673\"\u001b[39m,\n",
       "  \u001b[32m\"Isinda#IIIA#1#NA#Lycian sarcophagus, free standing#1705\"\u001b[39m,\n",
       "  \u001b[32m\"Antiphellos#IIIA#1#NA#Lycian sarcophagus, free standing#1667\"\u001b[39m,\n",
       "  \u001b[32m\"Pinara#IIIB#1#NA#Lycian sarcophagus, partially free standing#1696\"\u001b[39m,\n",
       "  \u001b[32m\"Phellos#IIIB#1#NA#Lycian sarcophagus, partially free standing#1699\"\u001b[39m,\n",
       "  \u001b[32m\"Koybasi#IIIB#1#NA#Lycian sarcophagus, partially free standing#1763\"\u001b[39m,\n",
       "  \u001b[32m\"Kyanai#IIIB#1#NA#Lycian sarcophagus, partially free standing#1707\"\u001b[39m,\n",
       "  \u001b[32m\"Pinara#IIID#2#NA#Lycian sarcophagus, rock-cut facade#1696\"\u001b[39m,\n",
       "  \u001b[32m\"Myra#IIID#3#NA#Lycian sarcophagus, rock-cut facade#1697\"\u001b[39m,\n",
       "  \u001b[32m\"Teimiousa#IIID#1#NA#Lycian sarcophagus, rock-cut facade#1709\"\u001b[39m,\n",
       "  \u001b[32m\"Simena#IIID#1#NA#Lycian sarcophagus, rock-cut facade#1704\"\u001b[39m,\n",
       "  \u001b[32m\"Kyanai#IIID#1#NA#Lycian sarcophagus, rock-cut facade#1707\"\u001b[39m,\n",
       "  \u001b[32m\"Antiphellos#IIID#1#NA#Lycian sarcophagus, rock-cut facade#1667\"\u001b[39m,\n",
       "  \u001b[32m\"Myra#IVB/C#1#NA#House tomb of Greek type, partially freestanding or with chamber#1697\"\u001b[39m,\n",
       "  \u001b[32m\"Cagman#IIA#1#NA#House tomb, free standing#1763\"\u001b[39m,\n",
       "  \u001b[32m\"Kadyanda#IIA#1#NA#House tomb, free standing#1673\"\u001b[39m,\n",
       "  \u001b[32m\"Isinda#IIA#1#NA#House tomb, free standing#1705\"\u001b[39m,\n",
       "  \u001b[32m\"Arneai#IIA#1#NA#House tomb, free standing#1670\"\u001b[39m,\n",
       "  \u001b[32m\"Rhodiapolis#IIB/C#1#NA#House tomb, partially freestanding or with chamber#1703\"\u001b[39m,\n",
       "  \u001b[32m\"Pinara#IIB/C#6#NA#House tomb, partially freestanding or with chamber#1696\"\u001b[39m,\n",
       "  \u001b[32m\"Phellos#IIB/C#13#NA#House tomb, partially freestanding or with chamber#1699\"\u001b[39m,\n",
       "  \u001b[32m\"Cavdir-Turuncova#IIB/C#2#NA#House tomb, partially freestanding or with chambe\u001b[39m..."
      ]
     },
     "execution_count": 12,
     "metadata": {},
     "output_type": "execute_result"
    }
   ],
   "source": [
    "val lines = Source.fromURL(lyrianCex).getLines.toVector"
   ]
  },
  {
   "cell_type": "markdown",
   "metadata": {},
   "source": [
    "## Finding the numeric values of the Tombs\n",
    "\n",
    "Having a vector of Strings, we split each String by the # character, creating new Vectors. This creates a Vector of Vectors. Each line of the data is mapped to a Vector of strings."
   ]
  },
  {
   "cell_type": "code",
   "execution_count": 13,
   "metadata": {
    "inputHidden": false,
    "outputHidden": false
   },
   "outputs": [
    {
     "data": {
      "text/plain": [
       "\u001b[36mdata\u001b[39m: \u001b[32mVector\u001b[39m[\u001b[32mVector\u001b[39m[\u001b[32mString\u001b[39m]] = \u001b[33mVector\u001b[39m(\n",
       "  \u001b[33mVector\u001b[39m(\n",
       "    \u001b[32m\"Antiphellos\"\u001b[39m,\n",
       "    \u001b[32m\"IID\"\u001b[39m,\n",
       "    \u001b[32m\"17\"\u001b[39m,\n",
       "    \u001b[32m\"NA\"\u001b[39m,\n",
       "    \u001b[32m\"House tomb, rock-cut facade\"\u001b[39m,\n",
       "    \u001b[32m\"1667\"\u001b[39m\n",
       "  ),\n",
       "  \u001b[33mVector\u001b[39m(\n",
       "    \u001b[32m\"Pinara\"\u001b[39m,\n",
       "    \u001b[32m\"IIIA\"\u001b[39m,\n",
       "    \u001b[32m\"2\"\u001b[39m,\n",
       "    \u001b[32m\"NA\"\u001b[39m,\n",
       "    \u001b[32m\"Lycian sarcophagus, free standing\"\u001b[39m,\n",
       "    \u001b[32m\"1696\"\u001b[39m\n",
       "  ),\n",
       "  \u001b[33mVector\u001b[39m(\n",
       "    \u001b[32m\"Delicedere\"\u001b[39m,\n",
       "    \u001b[32m\"IIIA\"\u001b[39m,\n",
       "    \u001b[32m\"1\"\u001b[39m,\n",
       "    \u001b[32m\"NA\"\u001b[39m,\n",
       "    \u001b[32m\"Lycian sarcophagus, free standing\"\u001b[39m,\n",
       "    \u001b[32m\"NA\"\u001b[39m\n",
       "  ),\n",
       "  \u001b[33mVector\u001b[39m(\n",
       "    \u001b[32m\"Xanthos\"\u001b[39m,\n",
       "    \u001b[32m\"IIIA\"\u001b[39m,\n",
       "    \u001b[32m\"9\"\u001b[39m,\n",
       "    \u001b[32m\"NA\"\u001b[39m,\n",
       "    \u001b[32m\"Lycian sarcophagus, free standing\"\u001b[39m,\n",
       "    \u001b[32m\"1694\"\u001b[39m\n",
       "  ),\n",
       "  \u001b[33mVector\u001b[39m(\u001b[32m\"Tlos\"\u001b[39m, \u001b[32m\"IIIA\"\u001b[39m, \u001b[32m\"5\"\u001b[39m, \u001b[32m\"NA\"\u001b[39m, \u001b[32m\"Lycian sarcophagus, free standing\"\u001b[39m, \u001b[32m\"1695\"\u001b[39m),\n",
       "  \u001b[33mVector\u001b[39m(\n",
       "    \u001b[32m\"Telmessos\"\u001b[39m,\n",
       "    \u001b[32m\"IIIA\"\u001b[39m,\n",
       "    \u001b[32m\"1\"\u001b[39m,\n",
       "..."
      ]
     },
     "execution_count": 13,
     "metadata": {},
     "output_type": "execute_result"
    }
   ],
   "source": [
    "val data = lines.tail.map(ln => ln.split(\"#\").toVector)"
   ]
  },
  {
   "cell_type": "markdown",
   "metadata": {},
   "source": [
    "The tombCount is in the thrid column(index 2) of each line of data. Now we create a new Vector that will only contain the tombCount."
   ]
  },
  {
   "cell_type": "code",
   "execution_count": 14,
   "metadata": {
    "inputHidden": false,
    "outputHidden": false
   },
   "outputs": [
    {
     "data": {
      "text/plain": [
       "\u001b[36mtombs\u001b[39m: \u001b[32mVector\u001b[39m[\u001b[32mString\u001b[39m] = \u001b[33mVector\u001b[39m(\n",
       "  \u001b[32m\"17\"\u001b[39m,\n",
       "  \u001b[32m\"2\"\u001b[39m,\n",
       "  \u001b[32m\"1\"\u001b[39m,\n",
       "  \u001b[32m\"9\"\u001b[39m,\n",
       "  \u001b[32m\"5\"\u001b[39m,\n",
       "  \u001b[32m\"1\"\u001b[39m,\n",
       "  \u001b[32m\"4\"\u001b[39m,\n",
       "  \u001b[32m\"3\"\u001b[39m,\n",
       "  \u001b[32m\"1\"\u001b[39m,\n",
       "  \u001b[32m\"1\"\u001b[39m,\n",
       "  \u001b[32m\"1\"\u001b[39m,\n",
       "  \u001b[32m\"5\"\u001b[39m,\n",
       "  \u001b[32m\"2\"\u001b[39m,\n",
       "  \u001b[32m\"1\"\u001b[39m,\n",
       "  \u001b[32m\"1\"\u001b[39m,\n",
       "  \u001b[32m\"1\"\u001b[39m,\n",
       "  \u001b[32m\"1\"\u001b[39m,\n",
       "  \u001b[32m\"1\"\u001b[39m,\n",
       "  \u001b[32m\"1\"\u001b[39m,\n",
       "  \u001b[32m\"1\"\u001b[39m,\n",
       "  \u001b[32m\"2\"\u001b[39m,\n",
       "  \u001b[32m\"3\"\u001b[39m,\n",
       "  \u001b[32m\"1\"\u001b[39m,\n",
       "  \u001b[32m\"1\"\u001b[39m,\n",
       "  \u001b[32m\"1\"\u001b[39m,\n",
       "  \u001b[32m\"1\"\u001b[39m,\n",
       "  \u001b[32m\"1\"\u001b[39m,\n",
       "  \u001b[32m\"1\"\u001b[39m,\n",
       "  \u001b[32m\"1\"\u001b[39m,\n",
       "  \u001b[32m\"1\"\u001b[39m,\n",
       "  \u001b[32m\"1\"\u001b[39m,\n",
       "  \u001b[32m\"1\"\u001b[39m,\n",
       "  \u001b[32m\"6\"\u001b[39m,\n",
       "  \u001b[32m\"13\"\u001b[39m,\n",
       "  \u001b[32m\"2\"\u001b[39m,\n",
       "  \u001b[32m\"17\"\u001b[39m,\n",
       "  \u001b[32m\"2\"\u001b[39m,\n",
       "  \u001b[32m\"8\"\u001b[39m,\n",
       "..."
      ]
     },
     "execution_count": 14,
     "metadata": {},
     "output_type": "execute_result"
    }
   ],
   "source": [
    "val tombs = data.map(columns => columns(2))"
   ]
  },
  {
   "cell_type": "markdown",
   "metadata": {},
   "source": [
    "We need to be able to add up this values to find the total count of tombs, but this is a Vector of Strings. We can convert by using the Strings toInt method."
   ]
  },
  {
   "cell_type": "code",
   "execution_count": 15,
   "metadata": {
    "inputHidden": false,
    "outputHidden": false
   },
   "outputs": [
    {
     "data": {
      "text/plain": [
       "\u001b[36mtombCounts\u001b[39m: \u001b[32mVector\u001b[39m[\u001b[32mInt\u001b[39m] = \u001b[33mVector\u001b[39m(\n",
       "  \u001b[32m17\u001b[39m,\n",
       "  \u001b[32m2\u001b[39m,\n",
       "  \u001b[32m1\u001b[39m,\n",
       "  \u001b[32m9\u001b[39m,\n",
       "  \u001b[32m5\u001b[39m,\n",
       "  \u001b[32m1\u001b[39m,\n",
       "  \u001b[32m4\u001b[39m,\n",
       "  \u001b[32m3\u001b[39m,\n",
       "  \u001b[32m1\u001b[39m,\n",
       "  \u001b[32m1\u001b[39m,\n",
       "  \u001b[32m1\u001b[39m,\n",
       "  \u001b[32m5\u001b[39m,\n",
       "  \u001b[32m2\u001b[39m,\n",
       "  \u001b[32m1\u001b[39m,\n",
       "  \u001b[32m1\u001b[39m,\n",
       "  \u001b[32m1\u001b[39m,\n",
       "  \u001b[32m1\u001b[39m,\n",
       "  \u001b[32m1\u001b[39m,\n",
       "  \u001b[32m1\u001b[39m,\n",
       "  \u001b[32m1\u001b[39m,\n",
       "  \u001b[32m2\u001b[39m,\n",
       "  \u001b[32m3\u001b[39m,\n",
       "  \u001b[32m1\u001b[39m,\n",
       "  \u001b[32m1\u001b[39m,\n",
       "  \u001b[32m1\u001b[39m,\n",
       "  \u001b[32m1\u001b[39m,\n",
       "  \u001b[32m1\u001b[39m,\n",
       "  \u001b[32m1\u001b[39m,\n",
       "  \u001b[32m1\u001b[39m,\n",
       "  \u001b[32m1\u001b[39m,\n",
       "  \u001b[32m1\u001b[39m,\n",
       "  \u001b[32m1\u001b[39m,\n",
       "  \u001b[32m6\u001b[39m,\n",
       "  \u001b[32m13\u001b[39m,\n",
       "  \u001b[32m2\u001b[39m,\n",
       "  \u001b[32m17\u001b[39m,\n",
       "  \u001b[32m2\u001b[39m,\n",
       "  \u001b[32m8\u001b[39m,\n",
       "..."
      ]
     },
     "execution_count": 15,
     "metadata": {},
     "output_type": "execute_result"
    }
   ],
   "source": [
    "val tombCounts = tombs.map(s => s.toInt)"
   ]
  },
  {
   "cell_type": "markdown",
   "metadata": {},
   "source": [
    "Using the sum method we can easily sum the Vector and it's integer values."
   ]
  },
  {
   "cell_type": "code",
   "execution_count": 16,
   "metadata": {
    "inputHidden": false,
    "outputHidden": false
   },
   "outputs": [
    {
     "data": {
      "text/plain": [
       "\u001b[36mres15\u001b[39m: \u001b[32mInt\u001b[39m = \u001b[32m1085\u001b[39m"
      ]
     },
     "execution_count": 16,
     "metadata": {},
     "output_type": "execute_result"
    }
   ],
   "source": [
    "tombCounts.sum"
   ]
  }
 ],
 "metadata": {
  "kernel_info": {
   "name": "scala212"
  },
  "kernelspec": {
   "display_name": "Scala (2.12)",
   "language": "scala",
   "name": "scala212"
  },
  "language_info": {
   "codemirror_mode": "text/x-scala",
   "file_extension": ".scala",
   "mimetype": "text/x-scala",
   "name": "scala",
   "nbconvert_exporter": "script",
   "version": "2.12.10"
  },
  "nteract": {
   "version": "0.15.0"
  }
 },
 "nbformat": 4,
 "nbformat_minor": 2
}
